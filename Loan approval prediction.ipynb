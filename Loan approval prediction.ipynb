{
 "cells": [
  {
   "cell_type": "markdown",
   "id": "22e8a1ec-2f59-4809-b175-2a2edb81fad6",
   "metadata": {},
   "source": [
    "# Loan approval prediction"
   ]
  },
  {
   "cell_type": "markdown",
   "id": "a35f9c49-4fba-45f8-816f-8da09a01f46b",
   "metadata": {},
   "source": [
    "#### This project discusses on building an optimum machine learning model to determine if an individual will be approved for a bank loan\n",
    "#### 1) Features determining the loan status are personal details, educational & employment details\n",
    "#### 2) Main aim will be to get the best possible classification accuracy"
   ]
  },
  {
   "cell_type": "code",
   "execution_count": 52,
   "id": "a302349a-1e67-499d-a472-ed6a20a17503",
   "metadata": {},
   "outputs": [],
   "source": [
    "import numpy as np\n",
    "import pandas as pd\n",
    "import matplotlib.pyplot as plt\n",
    "import seaborn as sns"
   ]
  },
  {
   "cell_type": "code",
   "execution_count": 3,
   "id": "656fbf39-e048-4d6e-9b0f-5715defe7d50",
   "metadata": {},
   "outputs": [],
   "source": [
    "train = pd.read_csv(\"loan_train.csv\")\n",
    "test = pd.read_csv(\"loan_test.csv\")"
   ]
  },
  {
   "cell_type": "code",
   "execution_count": 86,
   "id": "1a5245a4-0fda-4a6f-acd5-5ea05d14f9c6",
   "metadata": {},
   "outputs": [
    {
     "data": {
      "text/html": [
       "<div>\n",
       "<style scoped>\n",
       "    .dataframe tbody tr th:only-of-type {\n",
       "        vertical-align: middle;\n",
       "    }\n",
       "\n",
       "    .dataframe tbody tr th {\n",
       "        vertical-align: top;\n",
       "    }\n",
       "\n",
       "    .dataframe thead th {\n",
       "        text-align: right;\n",
       "    }\n",
       "</style>\n",
       "<table border=\"1\" class=\"dataframe\">\n",
       "  <thead>\n",
       "    <tr style=\"text-align: right;\">\n",
       "      <th></th>\n",
       "      <th>Loan_ID</th>\n",
       "      <th>Gender</th>\n",
       "      <th>Married</th>\n",
       "      <th>Dependents</th>\n",
       "      <th>Education</th>\n",
       "      <th>Self_Employed</th>\n",
       "      <th>ApplicantIncome</th>\n",
       "      <th>CoapplicantIncome</th>\n",
       "      <th>LoanAmount</th>\n",
       "      <th>Loan_Amount_Term</th>\n",
       "      <th>Credit_History</th>\n",
       "      <th>Property_Area</th>\n",
       "      <th>Loan_Status</th>\n",
       "    </tr>\n",
       "  </thead>\n",
       "  <tbody>\n",
       "    <tr>\n",
       "      <th>1</th>\n",
       "      <td>LP001003</td>\n",
       "      <td>Male</td>\n",
       "      <td>Yes</td>\n",
       "      <td>1</td>\n",
       "      <td>Graduate</td>\n",
       "      <td>No</td>\n",
       "      <td>4583</td>\n",
       "      <td>1508.0</td>\n",
       "      <td>128.0</td>\n",
       "      <td>360.0</td>\n",
       "      <td>1.0</td>\n",
       "      <td>Rural</td>\n",
       "      <td>N</td>\n",
       "    </tr>\n",
       "    <tr>\n",
       "      <th>2</th>\n",
       "      <td>LP001005</td>\n",
       "      <td>Male</td>\n",
       "      <td>Yes</td>\n",
       "      <td>0</td>\n",
       "      <td>Graduate</td>\n",
       "      <td>Yes</td>\n",
       "      <td>3000</td>\n",
       "      <td>0.0</td>\n",
       "      <td>66.0</td>\n",
       "      <td>360.0</td>\n",
       "      <td>1.0</td>\n",
       "      <td>Urban</td>\n",
       "      <td>Y</td>\n",
       "    </tr>\n",
       "    <tr>\n",
       "      <th>3</th>\n",
       "      <td>LP001006</td>\n",
       "      <td>Male</td>\n",
       "      <td>Yes</td>\n",
       "      <td>0</td>\n",
       "      <td>Not Graduate</td>\n",
       "      <td>No</td>\n",
       "      <td>2583</td>\n",
       "      <td>2358.0</td>\n",
       "      <td>120.0</td>\n",
       "      <td>360.0</td>\n",
       "      <td>1.0</td>\n",
       "      <td>Urban</td>\n",
       "      <td>Y</td>\n",
       "    </tr>\n",
       "    <tr>\n",
       "      <th>4</th>\n",
       "      <td>LP001008</td>\n",
       "      <td>Male</td>\n",
       "      <td>No</td>\n",
       "      <td>0</td>\n",
       "      <td>Graduate</td>\n",
       "      <td>No</td>\n",
       "      <td>6000</td>\n",
       "      <td>0.0</td>\n",
       "      <td>141.0</td>\n",
       "      <td>360.0</td>\n",
       "      <td>1.0</td>\n",
       "      <td>Urban</td>\n",
       "      <td>Y</td>\n",
       "    </tr>\n",
       "    <tr>\n",
       "      <th>5</th>\n",
       "      <td>LP001011</td>\n",
       "      <td>Male</td>\n",
       "      <td>Yes</td>\n",
       "      <td>2</td>\n",
       "      <td>Graduate</td>\n",
       "      <td>Yes</td>\n",
       "      <td>5417</td>\n",
       "      <td>4196.0</td>\n",
       "      <td>267.0</td>\n",
       "      <td>360.0</td>\n",
       "      <td>1.0</td>\n",
       "      <td>Urban</td>\n",
       "      <td>Y</td>\n",
       "    </tr>\n",
       "  </tbody>\n",
       "</table>\n",
       "</div>"
      ],
      "text/plain": [
       "    Loan_ID Gender Married Dependents     Education Self_Employed  \\\n",
       "1  LP001003   Male     Yes          1      Graduate            No   \n",
       "2  LP001005   Male     Yes          0      Graduate           Yes   \n",
       "3  LP001006   Male     Yes          0  Not Graduate            No   \n",
       "4  LP001008   Male      No          0      Graduate            No   \n",
       "5  LP001011   Male     Yes          2      Graduate           Yes   \n",
       "\n",
       "   ApplicantIncome  CoapplicantIncome  LoanAmount  Loan_Amount_Term  \\\n",
       "1             4583             1508.0       128.0             360.0   \n",
       "2             3000                0.0        66.0             360.0   \n",
       "3             2583             2358.0       120.0             360.0   \n",
       "4             6000                0.0       141.0             360.0   \n",
       "5             5417             4196.0       267.0             360.0   \n",
       "\n",
       "   Credit_History Property_Area Loan_Status  \n",
       "1             1.0         Rural           N  \n",
       "2             1.0         Urban           Y  \n",
       "3             1.0         Urban           Y  \n",
       "4             1.0         Urban           Y  \n",
       "5             1.0         Urban           Y  "
      ]
     },
     "execution_count": 86,
     "metadata": {},
     "output_type": "execute_result"
    }
   ],
   "source": [
    "train.head()"
   ]
  },
  {
   "cell_type": "code",
   "execution_count": 5,
   "id": "06bdd1e0-4ec2-4a4f-a735-a786ea0e30b6",
   "metadata": {},
   "outputs": [],
   "source": [
    "x = train.drop(\"Loan_Status\", axis=1)\n",
    "y = train[\"Loan_Status\"]"
   ]
  },
  {
   "cell_type": "code",
   "execution_count": 6,
   "id": "bd3ca550-8f66-4ce0-9127-207cd6584de4",
   "metadata": {},
   "outputs": [],
   "source": [
    "# Categorisation of features\n",
    "\n",
    "cat_col = x.select_dtypes(\"object\").columns\n",
    "num_col = x.select_dtypes([\"int64\",\"float64\"]).columns"
   ]
  },
  {
   "cell_type": "code",
   "execution_count": 7,
   "id": "aa67ef05-9d97-4acd-91db-5236480e0cf2",
   "metadata": {},
   "outputs": [
    {
     "name": "stdout",
     "output_type": "stream",
     "text": [
      "ApplicantIncome       0\n",
      "CoapplicantIncome     0\n",
      "LoanAmount           22\n",
      "Loan_Amount_Term     14\n",
      "Credit_History       50\n",
      "dtype: int64\n"
     ]
    }
   ],
   "source": [
    "# Missing value treatment -> Numerical data\n",
    "\n",
    "print(train[num_col].isnull().sum())\n",
    "\n",
    "null_num_col = train[num_col].isnull().sum()[train[num_col].isnull().sum()!=0].index.tolist()"
   ]
  },
  {
   "cell_type": "code",
   "execution_count": 8,
   "id": "56c3314e-dd69-4f16-b90b-8d16dc802bf8",
   "metadata": {},
   "outputs": [
    {
     "name": "stdout",
     "output_type": "stream",
     "text": [
      "LoanAmount\n",
      "120.0    20\n",
      "110.0    17\n",
      "100.0    15\n",
      "160.0    12\n",
      "187.0    12\n",
      "         ..\n",
      "240.0     1\n",
      "214.0     1\n",
      "59.0      1\n",
      "166.0     1\n",
      "253.0     1\n",
      "Name: LoanAmount, Length: 203, dtype: int64 \n",
      "\n",
      "Unique values: 203\n",
      "=============================================\n",
      "Loan_Amount_Term\n",
      "360.0    512\n",
      "180.0     44\n",
      "480.0     15\n",
      "300.0     13\n",
      "240.0      4\n",
      "84.0       4\n",
      "120.0      3\n",
      "60.0       2\n",
      "36.0       2\n",
      "12.0       1\n",
      "Name: Loan_Amount_Term, dtype: int64 \n",
      "\n",
      "Unique values: 10\n",
      "=============================================\n",
      "Credit_History\n",
      "1.0    475\n",
      "0.0     89\n",
      "Name: Credit_History, dtype: int64 \n",
      "\n",
      "Unique values: 2\n",
      "=============================================\n"
     ]
    }
   ],
   "source": [
    "for nul_col in null_num_col:\n",
    "    print(nul_col)\n",
    "    print(train[nul_col].value_counts(), \"\\n\")\n",
    "    print(\"Unique values:\", train[nul_col].nunique())\n",
    "    print(\"=============================================\")"
   ]
  },
  {
   "cell_type": "code",
   "execution_count": 9,
   "id": "af6b0495-e284-46d1-a521-29ea3ed9c98f",
   "metadata": {},
   "outputs": [],
   "source": [
    "# Fill the missing values of credit history using \n",
    "\n",
    "# from sklearn.impute import SimpleImputer\n",
    "\n",
    "# temp_df = train[num_col]\n",
    "\n",
    "# imputer1 = SimpleImputer(strategy='most_frequent')\n",
    "# imputed_values1 = imputer1.fit_transform(temp_df)\n",
    "\n",
    "# train1 = pd.DataFrame(imputed_values1, columns=train[num_col].columns)\n",
    "# train1.head()"
   ]
  },
  {
   "cell_type": "code",
   "execution_count": 13,
   "id": "d5d8155f-157e-4714-bff9-eeb961421f40",
   "metadata": {},
   "outputs": [],
   "source": [
    "# Based on the above understanding, use KNN to fill the null values in 'Loan_Amount_Term' & 'Credit_History'\n",
    "\n",
    "import pandas as pd\n",
    "from sklearn.impute import KNNImputer\n",
    "\n",
    "num_col = ['ApplicantIncome', 'CoapplicantIncome', 'LoanAmount', 'Loan_Amount_Term', 'Credit_History']\n",
    "\n",
    "knn_imputer = KNNImputer(n_neighbors=1, weights='uniform')\n",
    "\n",
    "unique_loan_term_values = train['Loan_Amount_Term'].dropna().unique()\n",
    "unique_credit_history_values = train['Credit_History'].dropna().unique()\n",
    "\n",
    "knn_imputer.categorical_values_ = {\n",
    "    'Loan_Amount_Term': unique_loan_term_values,\n",
    "    'Credit_History': unique_credit_history_values\n",
    "}\n",
    "\n",
    "imputed_data = knn_imputer.fit_transform(train[num_col])\n",
    "\n",
    "train2= pd.DataFrame(imputed_data, columns=num_col)\n",
    "train.Loan_Amount_Term = train2.Loan_Amount_Term\n",
    "train.Credit_History = train2.Credit_History"
   ]
  },
  {
   "cell_type": "code",
   "execution_count": 14,
   "id": "79461110-9fc9-44d7-bd5d-8f36f016a51e",
   "metadata": {},
   "outputs": [
    {
     "data": {
      "text/plain": [
       "ApplicantIncome       0\n",
       "CoapplicantIncome     0\n",
       "LoanAmount           22\n",
       "Loan_Amount_Term      0\n",
       "Credit_History        0\n",
       "dtype: int64"
      ]
     },
     "execution_count": 14,
     "metadata": {},
     "output_type": "execute_result"
    }
   ],
   "source": [
    "train[num_col].isnull().sum()"
   ]
  },
  {
   "cell_type": "code",
   "execution_count": null,
   "id": "f4357e1d-cab8-446a-b8ad-ca58fdbbb552",
   "metadata": {},
   "outputs": [],
   "source": []
  },
  {
   "cell_type": "code",
   "execution_count": 15,
   "id": "4f043ab2-28f1-4370-9407-44b6dcc7c2fa",
   "metadata": {},
   "outputs": [
    {
     "data": {
      "text/plain": [
       "Loan_ID           0\n",
       "Gender           13\n",
       "Married           3\n",
       "Dependents       15\n",
       "Education         0\n",
       "Self_Employed    32\n",
       "Property_Area     0\n",
       "dtype: int64"
      ]
     },
     "execution_count": 15,
     "metadata": {},
     "output_type": "execute_result"
    }
   ],
   "source": [
    "# Missing value treatment -> Categorical data\n",
    "\n",
    "train[cat_col].isnull().sum()"
   ]
  },
  {
   "cell_type": "code",
   "execution_count": 16,
   "id": "1caaee5b-6f0f-4937-b7e4-cdea20dbb9a6",
   "metadata": {},
   "outputs": [
    {
     "data": {
      "text/html": [
       "<div>\n",
       "<style scoped>\n",
       "    .dataframe tbody tr th:only-of-type {\n",
       "        vertical-align: middle;\n",
       "    }\n",
       "\n",
       "    .dataframe tbody tr th {\n",
       "        vertical-align: top;\n",
       "    }\n",
       "\n",
       "    .dataframe thead th {\n",
       "        text-align: right;\n",
       "    }\n",
       "</style>\n",
       "<table border=\"1\" class=\"dataframe\">\n",
       "  <thead>\n",
       "    <tr style=\"text-align: right;\">\n",
       "      <th></th>\n",
       "      <th>Loan_ID</th>\n",
       "      <th>Gender</th>\n",
       "      <th>Married</th>\n",
       "      <th>Dependents</th>\n",
       "      <th>Education</th>\n",
       "      <th>Self_Employed</th>\n",
       "      <th>Property_Area</th>\n",
       "    </tr>\n",
       "  </thead>\n",
       "  <tbody>\n",
       "    <tr>\n",
       "      <th>0</th>\n",
       "      <td>LP001002</td>\n",
       "      <td>Male</td>\n",
       "      <td>No</td>\n",
       "      <td>0</td>\n",
       "      <td>Graduate</td>\n",
       "      <td>No</td>\n",
       "      <td>Urban</td>\n",
       "    </tr>\n",
       "    <tr>\n",
       "      <th>1</th>\n",
       "      <td>LP001003</td>\n",
       "      <td>Male</td>\n",
       "      <td>Yes</td>\n",
       "      <td>1</td>\n",
       "      <td>Graduate</td>\n",
       "      <td>No</td>\n",
       "      <td>Rural</td>\n",
       "    </tr>\n",
       "    <tr>\n",
       "      <th>2</th>\n",
       "      <td>LP001005</td>\n",
       "      <td>Male</td>\n",
       "      <td>Yes</td>\n",
       "      <td>0</td>\n",
       "      <td>Graduate</td>\n",
       "      <td>Yes</td>\n",
       "      <td>Urban</td>\n",
       "    </tr>\n",
       "    <tr>\n",
       "      <th>3</th>\n",
       "      <td>LP001006</td>\n",
       "      <td>Male</td>\n",
       "      <td>Yes</td>\n",
       "      <td>0</td>\n",
       "      <td>Not Graduate</td>\n",
       "      <td>No</td>\n",
       "      <td>Urban</td>\n",
       "    </tr>\n",
       "    <tr>\n",
       "      <th>4</th>\n",
       "      <td>LP001008</td>\n",
       "      <td>Male</td>\n",
       "      <td>No</td>\n",
       "      <td>0</td>\n",
       "      <td>Graduate</td>\n",
       "      <td>No</td>\n",
       "      <td>Urban</td>\n",
       "    </tr>\n",
       "  </tbody>\n",
       "</table>\n",
       "</div>"
      ],
      "text/plain": [
       "    Loan_ID Gender Married Dependents     Education Self_Employed  \\\n",
       "0  LP001002   Male      No          0      Graduate            No   \n",
       "1  LP001003   Male     Yes          1      Graduate            No   \n",
       "2  LP001005   Male     Yes          0      Graduate           Yes   \n",
       "3  LP001006   Male     Yes          0  Not Graduate            No   \n",
       "4  LP001008   Male      No          0      Graduate            No   \n",
       "\n",
       "  Property_Area  \n",
       "0         Urban  \n",
       "1         Rural  \n",
       "2         Urban  \n",
       "3         Urban  \n",
       "4         Urban  "
      ]
     },
     "execution_count": 16,
     "metadata": {},
     "output_type": "execute_result"
    }
   ],
   "source": [
    "train[cat_col].head()"
   ]
  },
  {
   "cell_type": "code",
   "execution_count": 59,
   "id": "6a596a61-0b9a-419b-a523-4367c0a37497",
   "metadata": {},
   "outputs": [
    {
     "data": {
      "image/png": "[encoded data removed]",
      "text/plain": [
       "<Figure size 1008x432 with 3 Axes>"
      ]
     },
     "metadata": {
      "needs_background": "light"
     },
     "output_type": "display_data"
    }
   ],
   "source": [
    "fig,axes = plt.subplots(1,3,figsize=(14,6))\n",
    "\n",
    "sns.countplot(x='Self_Employed', hue='Education',data=train[cat_col], ax=axes[0])\n",
    "sns.countplot(x='Dependents', hue='Married',data=train[cat_col], ax=axes[1])\n",
    "sns.countplot(x='Gender', hue='Married',data=train[cat_col], ax=axes[2])\n",
    "plt.show()"
   ]
  },
  {
   "cell_type": "code",
   "execution_count": 18,
   "id": "1a679064-cc8f-444f-8c21-82a1c83282b2",
   "metadata": {},
   "outputs": [],
   "source": [
    "# Inferences that can be drawn from the above plots to fill the most obvious missing values\n",
    "# 1) If Married='No' then, Dependents=0\n",
    "\n",
    "train.loc[train['Married'] == 'No', 'Dependents'] = '0'"
   ]
  },
  {
   "cell_type": "code",
   "execution_count": 19,
   "id": "0a1ff235-2150-461e-9f5d-6ede2ffc53f8",
   "metadata": {},
   "outputs": [],
   "source": [
    "# Drop rows where both Married & Dependents are null\n",
    "\n",
    "drop_rows = train[train['Dependents'].isnull() & train['Married'].isnull()].index.tolist()\n",
    "train.drop(drop_rows, inplace=True)"
   ]
  },
  {
   "cell_type": "code",
   "execution_count": 20,
   "id": "4b283aa5-ceec-457f-a357-68e95c254e66",
   "metadata": {},
   "outputs": [],
   "source": [
    "train[cat_col] = train[cat_col].fillna(value='NS')\n",
    "train.dropna(subset=['LoanAmount'], inplace=True)"
   ]
  },
  {
   "cell_type": "code",
   "execution_count": null,
   "id": "e2b0276d-b9a0-48a7-8036-33c923d52a38",
   "metadata": {},
   "outputs": [],
   "source": []
  },
  {
   "cell_type": "code",
   "execution_count": 21,
   "id": "99a4ce8e-dffc-4dea-bb0f-dd9028d2aab4",
   "metadata": {},
   "outputs": [],
   "source": [
    "# Divide into features & target. Split the data\n",
    "\n",
    "x = train.drop([\"Loan_Status\",\"Loan_ID\"], axis=1)\n",
    "y = train['Loan_Status']\n",
    "\n",
    "cat_cols = x.select_dtypes(\"object\").columns.tolist()\n",
    "cat_dummies = pd.get_dummies(x[cat_cols])\n",
    "\n",
    "x_new = pd.concat([x,cat_dummies], axis=1)\n",
    "x_new.drop(cat_cols, axis=1, inplace=True)"
   ]
  },
  {
   "cell_type": "code",
   "execution_count": 22,
   "id": "a7bc8565-82cb-48c2-8d67-2d5b91d66266",
   "metadata": {},
   "outputs": [],
   "source": [
    "from sklearn.preprocessing import LabelEncoder\n",
    "le = LabelEncoder()\n",
    "\n",
    "y = le.fit_transform(y)"
   ]
  },
  {
   "cell_type": "code",
   "execution_count": 38,
   "id": "de58921b-fd4b-4560-81ff-9d5f00e37514",
   "metadata": {},
   "outputs": [],
   "source": [
    "# Splitting the data\n",
    "\n",
    "from sklearn.model_selection import train_test_split\n",
    "\n",
    "xtrain, xtest, ytrain, ytest = train_test_split(x_new,y, test_size=0.3, stratify=y, random_state=42)"
   ]
  },
  {
   "cell_type": "code",
   "execution_count": null,
   "id": "156f7347-541a-45a7-a316-59bb735ff95d",
   "metadata": {},
   "outputs": [],
   "source": []
  },
  {
   "cell_type": "markdown",
   "id": "07b36d3b-5313-4a6c-a5a7-772a57a8fbc2",
   "metadata": {},
   "source": [
    "## Model building"
   ]
  },
  {
   "cell_type": "markdown",
   "id": "90abbfc7-5f82-466a-8f66-5b440f0ce25a",
   "metadata": {},
   "source": [
    "#### Model 1 -> Building a pipleline to determine the best base model"
   ]
  },
  {
   "cell_type": "code",
   "execution_count": 39,
   "id": "3966f0a4-51ea-4f94-ab71-7f203bd9fb77",
   "metadata": {},
   "outputs": [],
   "source": [
    "# Build pipeline\n",
    "\n",
    "from sklearn.pipeline import make_pipeline\n",
    "from sklearn.model_selection import GridSearchCV\n",
    "import xgboost as xgb\n",
    "from xgboost import XGBClassifier\n",
    "from sklearn.linear_model import LogisticRegression\n",
    "from sklearn.ensemble import RandomForestClassifier"
   ]
  },
  {
   "cell_type": "code",
   "execution_count": 40,
   "id": "3d28fe4f-d926-46b9-99a8-f5b10685819b",
   "metadata": {},
   "outputs": [],
   "source": [
    "pipelines = {\n",
    "    \"XGB\": make_pipeline(xgb.XGBClassifier(objective=\"binary:logistic\")),\n",
    "    \"LR\": make_pipeline(LogisticRegression(max_iter=1000)),\n",
    "    \"RF\": make_pipeline(RandomForestClassifier())\n",
    "}"
   ]
  },
  {
   "cell_type": "code",
   "execution_count": 44,
   "id": "814796f3-66e3-4138-9aaa-51b00f3b21fe",
   "metadata": {},
   "outputs": [],
   "source": [
    "hyper_para = {\n",
    "    \"XGB\": {\n",
    "        'xgbclassifier__scale_pos_weight': [0.45,1,2.25],\n",
    "        'xgbclassifier__eta': [0.01, 0.1, 0.5],\n",
    "        # 'xgbclassifier__booster': ['gbtree', 'gblinear'],\n",
    "        'xgbclassifier__max_depth': [3,4,5],\n",
    "        'xgbclassifier__n_estimators': [100,200,500]\n",
    "    },\n",
    "    \"LR\": {\n",
    "        'logisticregression__C': [0.1,1,10],\n",
    "        'logisticregression__class_weight': [None, 'balanced']\n",
    "    },\n",
    "    \"RF\": {\n",
    "        'randomforestclassifier__n_estimators': [100,200,500],\n",
    "        'randomforestclassifier__max_depth': [3,4,5],\n",
    "        'randomforestclassifier__criterion': ['entropy','gini']\n",
    "    }\n",
    "}"
   ]
  },
  {
   "cell_type": "code",
   "execution_count": 45,
   "id": "187d88bf-a0e5-482b-9ddb-f86d0aae2052",
   "metadata": {},
   "outputs": [
    {
     "name": "stdout",
     "output_type": "stream",
     "text": [
      "Started training for XGB\n",
      "XGB has been fit\n",
      "Best params for XGB = {'xgbclassifier__eta': 0.01, 'xgbclassifier__max_depth': 3, 'xgbclassifier__n_estimators': 200, 'xgbclassifier__scale_pos_weight': 2.25}\n",
      "Started training for LR\n",
      "LR has been fit\n",
      "Best params for LR = {'logisticregression__C': 1, 'logisticregression__class_weight': None}\n",
      "Started training for RF\n",
      "RF has been fit\n",
      "Best params for RF = {'randomforestclassifier__criterion': 'gini', 'randomforestclassifier__max_depth': 4, 'randomforestclassifier__n_estimators': 100}\n"
     ]
    }
   ],
   "source": [
    "from sklearn.model_selection import GridSearchCV\n",
    "from sklearn.exceptions import NotFittedError\n",
    "\n",
    "fit_models = {}\n",
    "\n",
    "for algo, pipline in pipelines.items():\n",
    "    model = GridSearchCV(pipline, hyper_para[algo], cv=3, scoring='f1')\n",
    "    try:\n",
    "        print(\"Started training for {}\".format(algo))\n",
    "        model.fit(xtrain, ytrain)\n",
    "        best_para = model.best_params_\n",
    "        fit_models[algo] = model\n",
    "        print(\"{} has been fit\".format(algo))\n",
    "        print(\"Best params for\", algo, \"=\", best_para)\n",
    "    except NotFittedError as e:\n",
    "        print(repr(e))"
   ]
  },
  {
   "cell_type": "code",
   "execution_count": 53,
   "id": "7d93e9be-69d4-4bb1-9881-fbe1e7658358",
   "metadata": {},
   "outputs": [
    {
     "name": "stdout",
     "output_type": "stream",
     "text": [
      "XGB accuracy score: 0.8135593220338984\n",
      "[[ 23   2]\n",
      " [ 31 121]]\n",
      "===========================================\n",
      "LR accuracy score: 0.807909604519774\n",
      "[[ 24   4]\n",
      " [ 30 119]]\n",
      "===========================================\n",
      "RF accuracy score: 0.807909604519774\n",
      "[[ 23   3]\n",
      " [ 31 120]]\n",
      "===========================================\n"
     ]
    }
   ],
   "source": [
    "# Validating the model\n",
    "\n",
    "from sklearn.metrics import classification_report, confusion_matrix, accuracy_score\n",
    "\n",
    "for algo,model in fit_models.items():\n",
    "    best_model = model.best_estimator_\n",
    "    ypred = best_model.predict(xtest)\n",
    "    print(\"{} accuracy score: {}\".format(algo, accuracy_score(ytest, ypred)))\n",
    "    print(confusion_matrix(ypred,ytest))\n",
    "    print(\"===========================================\")"
   ]
  },
  {
   "cell_type": "code",
   "execution_count": 48,
   "id": "a43b9ad6-2205-4dfd-9a38-c035268388e4",
   "metadata": {},
   "outputs": [],
   "source": [
    "best_xgb = fit_models['XGB'].best_estimator_\n",
    "best_lr = fit_models['LR'].best_estimator_\n",
    "best_rf = fit_models['RF'].best_estimator_"
   ]
  },
  {
   "cell_type": "markdown",
   "id": "dbe95c08-00b6-4966-8649-8bd35420ee0a",
   "metadata": {},
   "source": [
    "#### Determining the feature importances from each model"
   ]
  },
  {
   "cell_type": "code",
   "execution_count": 49,
   "id": "48cd2893-7917-4a8c-a8f5-560fb722f0e5",
   "metadata": {},
   "outputs": [
    {
     "name": "stderr",
     "output_type": "stream",
     "text": [
      "/usr/local/lib/python3.10/site-packages/sklearn/linear_model/_logistic.py:460: ConvergenceWarning: lbfgs failed to converge (status=1):\n",
      "STOP: TOTAL NO. of ITERATIONS REACHED LIMIT.\n",
      "\n",
      "Increase the number of iterations (max_iter) or scale the data as shown in:\n",
      "    https://scikit-learn.org/stable/modules/preprocessing.html\n",
      "Please also refer to the documentation for alternative solver options:\n",
      "    https://scikit-learn.org/stable/modules/linear_model.html#logistic-regression\n",
      "  n_iter_i = _check_optimize_result(\n"
     ]
    },
    {
     "data": {
      "text/html": [
       "<div>\n",
       "<style scoped>\n",
       "    .dataframe tbody tr th:only-of-type {\n",
       "        vertical-align: middle;\n",
       "    }\n",
       "\n",
       "    .dataframe tbody tr th {\n",
       "        vertical-align: top;\n",
       "    }\n",
       "\n",
       "    .dataframe thead th {\n",
       "        text-align: right;\n",
       "    }\n",
       "</style>\n",
       "<table border=\"1\" class=\"dataframe\">\n",
       "  <thead>\n",
       "    <tr style=\"text-align: right;\">\n",
       "      <th></th>\n",
       "      <th>index</th>\n",
       "      <th>xgb</th>\n",
       "      <th>rfc</th>\n",
       "      <th>cross</th>\n",
       "    </tr>\n",
       "  </thead>\n",
       "  <tbody>\n",
       "    <tr>\n",
       "      <th>0</th>\n",
       "      <td>Credit_History</td>\n",
       "      <td>2.127483</td>\n",
       "      <td>0.419926</td>\n",
       "      <td>1.000000</td>\n",
       "    </tr>\n",
       "    <tr>\n",
       "      <th>1</th>\n",
       "      <td>LoanAmount</td>\n",
       "      <td>-0.002378</td>\n",
       "      <td>0.119053</td>\n",
       "      <td>0.073979</td>\n",
       "    </tr>\n",
       "    <tr>\n",
       "      <th>2</th>\n",
       "      <td>ApplicantIncome</td>\n",
       "      <td>0.000012</td>\n",
       "      <td>0.106323</td>\n",
       "      <td>0.068442</td>\n",
       "    </tr>\n",
       "    <tr>\n",
       "      <th>3</th>\n",
       "      <td>CoapplicantIncome</td>\n",
       "      <td>-0.000028</td>\n",
       "      <td>0.072139</td>\n",
       "      <td>0.052738</td>\n",
       "    </tr>\n",
       "    <tr>\n",
       "      <th>4</th>\n",
       "      <td>Property_Area_Semiurban</td>\n",
       "      <td>0.230578</td>\n",
       "      <td>0.031488</td>\n",
       "      <td>0.047758</td>\n",
       "    </tr>\n",
       "    <tr>\n",
       "      <th>5</th>\n",
       "      <td>Loan_Amount_Term</td>\n",
       "      <td>-0.001120</td>\n",
       "      <td>0.048539</td>\n",
       "      <td>0.041820</td>\n",
       "    </tr>\n",
       "    <tr>\n",
       "      <th>6</th>\n",
       "      <td>Married_Yes</td>\n",
       "      <td>0.102283</td>\n",
       "      <td>0.018708</td>\n",
       "      <td>0.033227</td>\n",
       "    </tr>\n",
       "    <tr>\n",
       "      <th>7</th>\n",
       "      <td>Education_Graduate</td>\n",
       "      <td>0.089208</td>\n",
       "      <td>0.017983</td>\n",
       "      <td>0.032200</td>\n",
       "    </tr>\n",
       "    <tr>\n",
       "      <th>8</th>\n",
       "      <td>Education_Not Graduate</td>\n",
       "      <td>0.000450</td>\n",
       "      <td>0.016706</td>\n",
       "      <td>0.027303</td>\n",
       "    </tr>\n",
       "    <tr>\n",
       "      <th>9</th>\n",
       "      <td>Gender_NS</td>\n",
       "      <td>0.066083</td>\n",
       "      <td>0.008289</td>\n",
       "      <td>0.026113</td>\n",
       "    </tr>\n",
       "    <tr>\n",
       "      <th>10</th>\n",
       "      <td>Dependents_0</td>\n",
       "      <td>0.025417</td>\n",
       "      <td>0.009642</td>\n",
       "      <td>0.025102</td>\n",
       "    </tr>\n",
       "    <tr>\n",
       "      <th>11</th>\n",
       "      <td>Dependents_1</td>\n",
       "      <td>-0.104719</td>\n",
       "      <td>0.020105</td>\n",
       "      <td>0.023581</td>\n",
       "    </tr>\n",
       "    <tr>\n",
       "      <th>12</th>\n",
       "      <td>Self_Employed_NS</td>\n",
       "      <td>-0.025919</td>\n",
       "      <td>0.007851</td>\n",
       "      <td>0.022167</td>\n",
       "    </tr>\n",
       "    <tr>\n",
       "      <th>13</th>\n",
       "      <td>Dependents_2</td>\n",
       "      <td>-0.030541</td>\n",
       "      <td>0.007821</td>\n",
       "      <td>0.021967</td>\n",
       "    </tr>\n",
       "    <tr>\n",
       "      <th>14</th>\n",
       "      <td>Gender_Female</td>\n",
       "      <td>-0.035453</td>\n",
       "      <td>0.007349</td>\n",
       "      <td>0.021565</td>\n",
       "    </tr>\n",
       "    <tr>\n",
       "      <th>15</th>\n",
       "      <td>Gender_Male</td>\n",
       "      <td>-0.067411</td>\n",
       "      <td>0.010219</td>\n",
       "      <td>0.021449</td>\n",
       "    </tr>\n",
       "    <tr>\n",
       "      <th>16</th>\n",
       "      <td>Self_Employed_No</td>\n",
       "      <td>-0.043775</td>\n",
       "      <td>0.007337</td>\n",
       "      <td>0.021227</td>\n",
       "    </tr>\n",
       "    <tr>\n",
       "      <th>17</th>\n",
       "      <td>Property_Area_Rural</td>\n",
       "      <td>-0.129302</td>\n",
       "      <td>0.015229</td>\n",
       "      <td>0.020611</td>\n",
       "    </tr>\n",
       "    <tr>\n",
       "      <th>18</th>\n",
       "      <td>Self_Employed_Yes</td>\n",
       "      <td>-0.192597</td>\n",
       "      <td>0.010879</td>\n",
       "      <td>0.016350</td>\n",
       "    </tr>\n",
       "    <tr>\n",
       "      <th>19</th>\n",
       "      <td>Dependents_NS</td>\n",
       "      <td>-0.148413</td>\n",
       "      <td>0.003565</td>\n",
       "      <td>0.015753</td>\n",
       "    </tr>\n",
       "    <tr>\n",
       "      <th>20</th>\n",
       "      <td>Property_Area_Urban</td>\n",
       "      <td>-0.259443</td>\n",
       "      <td>0.015626</td>\n",
       "      <td>0.014679</td>\n",
       "    </tr>\n",
       "    <tr>\n",
       "      <th>21</th>\n",
       "      <td>Married_No</td>\n",
       "      <td>-0.303833</td>\n",
       "      <td>0.017490</td>\n",
       "      <td>0.013010</td>\n",
       "    </tr>\n",
       "    <tr>\n",
       "      <th>22</th>\n",
       "      <td>Dependents_3+</td>\n",
       "      <td>-0.296580</td>\n",
       "      <td>0.007734</td>\n",
       "      <td>0.011194</td>\n",
       "    </tr>\n",
       "  </tbody>\n",
       "</table>\n",
       "</div>"
      ],
      "text/plain": [
       "                      index       xgb       rfc     cross\n",
       "0            Credit_History  2.127483  0.419926  1.000000\n",
       "1                LoanAmount -0.002378  0.119053  0.073979\n",
       "2           ApplicantIncome  0.000012  0.106323  0.068442\n",
       "3         CoapplicantIncome -0.000028  0.072139  0.052738\n",
       "4   Property_Area_Semiurban  0.230578  0.031488  0.047758\n",
       "5          Loan_Amount_Term -0.001120  0.048539  0.041820\n",
       "6               Married_Yes  0.102283  0.018708  0.033227\n",
       "7        Education_Graduate  0.089208  0.017983  0.032200\n",
       "8    Education_Not Graduate  0.000450  0.016706  0.027303\n",
       "9                 Gender_NS  0.066083  0.008289  0.026113\n",
       "10             Dependents_0  0.025417  0.009642  0.025102\n",
       "11             Dependents_1 -0.104719  0.020105  0.023581\n",
       "12         Self_Employed_NS -0.025919  0.007851  0.022167\n",
       "13             Dependents_2 -0.030541  0.007821  0.021967\n",
       "14            Gender_Female -0.035453  0.007349  0.021565\n",
       "15              Gender_Male -0.067411  0.010219  0.021449\n",
       "16         Self_Employed_No -0.043775  0.007337  0.021227\n",
       "17      Property_Area_Rural -0.129302  0.015229  0.020611\n",
       "18        Self_Employed_Yes -0.192597  0.010879  0.016350\n",
       "19            Dependents_NS -0.148413  0.003565  0.015753\n",
       "20      Property_Area_Urban -0.259443  0.015626  0.014679\n",
       "21               Married_No -0.303833  0.017490  0.013010\n",
       "22            Dependents_3+ -0.296580  0.007734  0.011194"
      ]
     },
     "execution_count": 49,
     "metadata": {},
     "output_type": "execute_result"
    }
   ],
   "source": [
    "from sklearn.preprocessing import MinMaxScaler\n",
    "min_max = MinMaxScaler((0.1,1))\n",
    "\n",
    "xgb = XGBClassifier(objective=\"binary:logistic\", eta=0.1, n_estimators=300, scale_pos_weight=2.25, booster='gblinear', random_state=42)\n",
    "xgb.fit(xtrain,ytrain)\n",
    "lr = LogisticRegression(C=1, class_weight=None, random_state=42)\n",
    "lr.fit(xtrain,ytrain)\n",
    "rfc = RandomForestClassifier(criterion='gini', n_estimators=200, max_depth=4, random_state=42)\n",
    "rfc.fit(xtrain,ytrain)\n",
    "\n",
    "xgb_imp = pd.DataFrame(dict(xgb=xgb.feature_importances_), index=xgb.feature_names_in_)\n",
    "rfc_imp = pd.DataFrame(dict(rfc=rfc.feature_importances_), index=lr.feature_names_in_)\n",
    "\n",
    "importances = pd.concat([xgb_imp,rfc_imp], axis=1)\n",
    "importances['cross'] = min_max.fit_transform(importances[['xgb']])* min_max.fit_transform(importances[['rfc']])\n",
    "sorted_feat = importances.sort_values(by='cross', ascending=False).reset_index()\n",
    "sorted_feat"
   ]
  },
  {
   "cell_type": "code",
   "execution_count": 76,
   "id": "bbbf2c93-6e86-4f1d-9c29-9dd8ce10c869",
   "metadata": {},
   "outputs": [],
   "source": [
    "# Based on the above observation, none of the features have feature importance so low as to drop them"
   ]
  },
  {
   "cell_type": "code",
   "execution_count": null,
   "id": "566da324-3b0b-43b6-b4c5-0ec35ea33087",
   "metadata": {},
   "outputs": [],
   "source": []
  },
  {
   "cell_type": "markdown",
   "id": "fc190fd7-0989-44eb-a49a-b207dce259c0",
   "metadata": {},
   "source": [
    "#### Model 2-> Resampling the data to balance w.r.t target feature"
   ]
  },
  {
   "cell_type": "code",
   "execution_count": 56,
   "id": "0c13c198-7216-4d19-a80b-4668ae3acbd6",
   "metadata": {},
   "outputs": [],
   "source": [
    "# Resampling the data to balance the target feature\n",
    "\n",
    "from imblearn.over_sampling import SMOTE\n",
    "smote = SMOTE(random_state=42)\n",
    "xsmote, ysmote = smote.fit_resample(x_new,y)\n",
    "\n",
    "from imblearn.under_sampling import RandomUnderSampler\n",
    "rus = RandomUnderSampler(random_state=42)\n",
    "xrus, yrus = rus.fit_resample(x_new,y)"
   ]
  },
  {
   "cell_type": "code",
   "execution_count": 60,
   "id": "61564cf3-ad1d-4ba9-a562-0d1fc3536c8b",
   "metadata": {},
   "outputs": [
    {
     "name": "stdout",
     "output_type": "stream",
     "text": [
      "Accuracy: 0.8192090395480226\n",
      "[[ 24  30]\n",
      " [  2 121]]\n"
     ]
    }
   ],
   "source": [
    "import xgboost as xgb\n",
    "from xgboost import XGBClassifier\n",
    "\n",
    "model1 = xgb.XGBClassifier(objective=\"binary:logistic\", eta=0.01, max_depth=3, n_estimators=200, scale_pos_weight=2.25 )\n",
    "model1.fit(xsmote, ysmote)\n",
    "# model1.fit(xrus,yrus)\n",
    "\n",
    "ypred1 = model1.predict(xtest)\n",
    "print(\"Accuracy:\",accuracy_score(ytest,ypred1))\n",
    "print(confusion_matrix(ytest,ypred1))"
   ]
  },
  {
   "cell_type": "code",
   "execution_count": null,
   "id": "12430e85-163b-448b-849d-c00cbffeedce",
   "metadata": {},
   "outputs": [],
   "source": []
  },
  {
   "cell_type": "markdown",
   "id": "cf4dc169-5b53-4ff3-9b38-d3ee5a8032ee",
   "metadata": {},
   "source": [
    "#### Model 3 -> Voting classifier"
   ]
  },
  {
   "cell_type": "code",
   "execution_count": 77,
   "id": "5cff0734-478a-4aa5-8b7f-ab37f9a4505f",
   "metadata": {},
   "outputs": [],
   "source": [
    "# Voting classifier\n",
    "\n",
    "from sklearn.ensemble import VotingClassifier\n",
    "import xgboost as xgb\n",
    "from xgboost import XGBClassifier\n",
    "\n",
    "xgb = xgb.XGBClassifier(objective=\"binary:logistic\", eta=0.01, max_depth=3, n_estimators=200, scale_pos_weight=2.25, random_state=42 )\n",
    "lr = LogisticRegression(C=1, class_weight=None, random_state=42)\n",
    "rfc = RandomForestClassifier(criterion='gini', n_estimators=100, max_depth=4, random_state=42)\n",
    "\n",
    "voting = VotingClassifier(estimators=[('xgb',xgb),('lr',lr),('rfc',rfc)], voting='hard')"
   ]
  },
  {
   "cell_type": "code",
   "execution_count": 68,
   "id": "52082552-53f7-4765-ba3c-4f3392e867e9",
   "metadata": {},
   "outputs": [
    {
     "name": "stdout",
     "output_type": "stream",
     "text": [
      "[[ 23  31]\n",
      " [  2 121]]\n",
      "0.8135593220338984\n"
     ]
    },
    {
     "name": "stderr",
     "output_type": "stream",
     "text": [
      "/usr/local/lib/python3.10/site-packages/sklearn/linear_model/_logistic.py:460: ConvergenceWarning: lbfgs failed to converge (status=1):\n",
      "STOP: TOTAL NO. of ITERATIONS REACHED LIMIT.\n",
      "\n",
      "Increase the number of iterations (max_iter) or scale the data as shown in:\n",
      "    https://scikit-learn.org/stable/modules/preprocessing.html\n",
      "Please also refer to the documentation for alternative solver options:\n",
      "    https://scikit-learn.org/stable/modules/linear_model.html#logistic-regression\n",
      "  n_iter_i = _check_optimize_result(\n"
     ]
    }
   ],
   "source": [
    "voting.fit(xtrain,ytrain)\n",
    "ypred2 = voting.predict(xtest)\n",
    "\n",
    "print(confusion_matrix(ytest,ypred2))\n",
    "print(accuracy_score(ytest,ypred2))"
   ]
  },
  {
   "cell_type": "code",
   "execution_count": null,
   "id": "0996b206-9c4f-4ea3-96ec-0e2885bdca7b",
   "metadata": {},
   "outputs": [],
   "source": []
  },
  {
   "cell_type": "markdown",
   "id": "59a81bef-62d6-465c-88cd-297ccee27f7a",
   "metadata": {},
   "source": [
    "#### Model 4 -> Bagging classifier"
   ]
  },
  {
   "cell_type": "code",
   "execution_count": 75,
   "id": "a90fefae-0182-40b7-a4e5-4d23e50ac330",
   "metadata": {},
   "outputs": [
    {
     "name": "stdout",
     "output_type": "stream",
     "text": [
      "[[ 23  31]\n",
      " [  2 121]]\n",
      "0.8135593220338984\n"
     ]
    }
   ],
   "source": [
    "# Bagging classifier\n",
    "\n",
    "from sklearn.ensemble import BaggingClassifier\n",
    "\n",
    "xbg_new = fit_models['XGB'].best_estimator_\n",
    "xgb_bag = BaggingClassifier(xbg_new, n_estimators=10, max_samples=0.8, random_state=42)\n",
    "xgb_bag.fit(xtrain,ytrain)\n",
    "ypred3 = voting.predict(xtest)\n",
    "\n",
    "print(confusion_matrix(ytest,ypred3))\n",
    "print(accuracy_score(ytest,ypred3))"
   ]
  },
  {
   "cell_type": "code",
   "execution_count": 73,
   "id": "34bc9e18-29ce-4478-9385-c399a4985d7e",
   "metadata": {},
   "outputs": [
    {
     "name": "stdout",
     "output_type": "stream",
     "text": [
      "For threshold 0.1\n",
      "[[  0  54]\n",
      " [  0 123]]\n",
      "0.6949152542372882\n",
      "===========================\n",
      "For threshold 0.2\n",
      "[[ 14  40]\n",
      " [  1 122]]\n",
      "0.768361581920904\n",
      "===========================\n",
      "For threshold 0.3\n",
      "[[ 22  32]\n",
      " [  2 121]]\n",
      "0.807909604519774\n",
      "===========================\n",
      "For threshold 0.4\n",
      "[[ 23  31]\n",
      " [  2 121]]\n",
      "0.8135593220338984\n",
      "===========================\n",
      "For threshold 0.5\n",
      "[[ 23  31]\n",
      " [  2 121]]\n",
      "0.8135593220338984\n",
      "===========================\n",
      "For threshold 0.6\n",
      "[[ 24  30]\n",
      " [  2 121]]\n",
      "0.8192090395480226\n",
      "===========================\n",
      "For threshold 0.65\n",
      "[[ 24  30]\n",
      " [  2 121]]\n",
      "0.8192090395480226\n",
      "===========================\n",
      "For threshold 0.7\n",
      "[[ 25  29]\n",
      " [  3 120]]\n",
      "0.8192090395480226\n",
      "===========================\n",
      "For threshold 0.8\n",
      "[[27 27]\n",
      " [27 96]]\n",
      "0.6949152542372882\n",
      "===========================\n",
      "For threshold 0.9\n",
      "[[ 54   0]\n",
      " [123   0]]\n",
      "0.3050847457627119\n",
      "===========================\n"
     ]
    }
   ],
   "source": [
    "# Varying the threshold\n",
    "\n",
    "pred_prob = pd.DataFrame(xgb_bag.predict_proba(xtest)[:,1])\n",
    "\n",
    "thres = [0.1, 0.2, 0.3, 0.4, 0.5, 0.6,0.65, 0.7, 0.8, 0.9]\n",
    "\n",
    "for i in thres:\n",
    "    print(\"For threshold {}\".format(i))\n",
    "    ypred3 = pred_prob.applymap(lambda x:1 if x>i else 0)\n",
    "    print(confusion_matrix(ytest,ypred3))\n",
    "    print(accuracy_score(ytest,ypred3))\n",
    "    print(\"===========================\")"
   ]
  },
  {
   "cell_type": "code",
   "execution_count": 84,
   "id": "426b8cf8-ce9a-404a-9779-30374eaf2cf5",
   "metadata": {},
   "outputs": [
    {
     "name": "stdout",
     "output_type": "stream",
     "text": [
      "Accuracy: 0.8192090395480226\n",
      "[[ 24  30]\n",
      " [  2 121]]\n",
      "==============================\n",
      "Accuracy: 0.8305084745762712\n",
      "[[ 27  27]\n",
      " [  3 120]]\n",
      "==============================\n",
      "Accuracy: 0.8305084745762712\n",
      "[[ 28  26]\n",
      " [  4 119]]\n",
      "==============================\n",
      "Accuracy: 0.8361581920903954\n",
      "[[ 25  29]\n",
      " [  0 123]]\n",
      "==============================\n",
      "Accuracy: 0.8192090395480226\n",
      "[[ 22  32]\n",
      " [  0 123]]\n",
      "==============================\n",
      "Average accuracy score: 0.8271186440677966\n"
     ]
    }
   ],
   "source": [
    "from sklearn.model_selection import cross_val_score, StratifiedShuffleSplit\n",
    "\n",
    "cv = StratifiedShuffleSplit(n_splits=5, test_size=0.3, random_state=42)\n",
    "acc_score = []\n",
    "\n",
    "for train_index, test_index in cv.split(x_new,y):\n",
    "    xtrain_fold, xtest_fold = x_new.iloc[train_index], x_new.iloc[test_index]\n",
    "    ytrain_fold, ytest_fold = y[train_index], y[test_index]\n",
    "    \n",
    "    xgb_bag.fit(xtrain_fold, ytrain_fold)\n",
    "    ypred = xgb_bag.predict(xtest_fold)\n",
    "    \n",
    "    pred_prob = pd.DataFrame(xgb_bag.predict_proba(xtest_fold)[:,1])\n",
    "    ypred = pred_prob.applymap(lambda x:1 if x>0.6 else 0)\n",
    "    \n",
    "    print(\"Accuracy:\", accuracy_score(ytest_fold, ypred))\n",
    "    acc_score.append(accuracy_score(ytest_fold, ypred))\n",
    "    print(confusion_matrix(ytest_fold, ypred))\n",
    "    print(\"==============================\")\n",
    "    \n",
    "print(\"Average accuracy score:\", sum(acc_score)/len(acc_score))"
   ]
  },
  {
   "cell_type": "code",
   "execution_count": null,
   "id": "f5be1a33-6aea-4ae8-91e3-eb73c5e7edea",
   "metadata": {},
   "outputs": [],
   "source": []
  },
  {
   "cell_type": "markdown",
   "id": "e8692a37-54ae-4e12-bec4-653794893372",
   "metadata": {},
   "source": [
    "#### Conclusion -> The best model is acheived by keeping the threshold b/w 0.6 and 0.7 (Avg accuracy = 82.7%)"
   ]
  },
  {
   "cell_type": "code",
   "execution_count": null,
   "id": "5d0e1cd0-9c26-4e34-8ddf-a617b82992e0",
   "metadata": {},
   "outputs": [],
   "source": []
  }
 ],
 "metadata": {
  "kernelspec": {
   "display_name": "Python 3 [3.10]",
   "language": "python",
   "name": "python3"
  },
  "language_info": {
   "codemirror_mode": {
    "name": "ipython",
    "version": 3
   },
   "file_extension": ".py",
   "mimetype": "text/x-python",
   "name": "python",
   "nbconvert_exporter": "python",
   "pygments_lexer": "ipython3",
   "version": "3.10.2"
  }
 },
 "nbformat": 4,
 "nbformat_minor": 5
}
